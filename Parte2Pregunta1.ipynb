{
 "cells": [
  {
   "cell_type": "markdown",
   "id": "50939e68",
   "metadata": {},
   "source": [
    "### Práctica \n",
    "Complete los siguientes dos ejercicios escribiendo el código en Python. Deberá utilizar las \n",
    "bibliotecas networkx, matplotlib.pyplot y numpy. Responda a las preguntas de análisis basándose en las gráficas que \n",
    "genere. "
   ]
  },
  {
   "cell_type": "markdown",
   "id": "d1e37272",
   "metadata": {},
   "source": [
    "### Problema 1 \n",
    "Uno de los descubrimientos más importantes sobre las redes aleatorias es que no se vuelven conectadas de forma \n",
    "gradual. En su lugar, experimentan una \"transición de fase\": por debajo de un umbral crítico de probabilidad de \n",
    "conexión p, la red está fragmentada en muchas islas pequeñas. Justo en ese umbral, un \"componente gigante\" \n",
    "emerge repentinamente. Su tarea es visualizar este fenómeno"
   ]
  },
  {
   "cell_type": "code",
   "execution_count": null,
   "id": "c7f7502c",
   "metadata": {
    "vscode": {
     "languageId": "plaintext"
    }
   },
   "outputs": [],
   "source": []
  }
 ],
 "metadata": {
  "language_info": {
   "name": "python"
  }
 },
 "nbformat": 4,
 "nbformat_minor": 5
}
